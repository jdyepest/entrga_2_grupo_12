{
 "cells": [
  {
   "cell_type": "code",
   "execution_count": 2,
   "id": "22f2291b-66d6-4eee-a4af-71987bda8129",
   "metadata": {},
   "outputs": [],
   "source": [
    "import numpy as np\n",
    "import matplotlib.pyplot as plt\n",
    "import cv2 as cv"
   ]
  },
  {
   "cell_type": "code",
   "execution_count": null,
   "id": "14c9d41a-6c42-4558-90b2-b4952c061f45",
   "metadata": {},
   "outputs": [],
   "source": []
  },
  {
   "cell_type": "code",
   "execution_count": 2,
   "id": "8cefebab-9ea7-4f00-83ea-dbf2ef4f0a3f",
   "metadata": {},
   "outputs": [],
   "source": [
    "def d_angular( U,dx,dy,z,W_length):\n",
    "    freq_U=np.fft.fftshift(np.fft.fft2(U)) \n",
    "    N,M =np.shape(U)\n",
    "    x=np.arange(-int(M/2),int(M/2),1)\n",
    "    y=np.arange(-int(N/2),int(N/2),1)\n",
    "    \n",
    "    X,Y=np.meshgrid(x,y)\n",
    "    k=(2*np.pi)/W_length\n",
    "    dfx=X*1/(M*dx)\n",
    "    dfy=Y*1/(N*dy)\n",
    "    \n",
    "    c1=1j*z*k\n",
    "    matrix= np.exp(c1*np.sqrt(1-((W_length**2)*(dfx**2+dfy**2))))\n",
    "    matrix2=freq_U*matrix\n",
    "    matrix3=np.fft.ifft2(matrix2)\n",
    "    \n",
    "    return matrix3\n",
    "    \n"
   ]
  },
  {
   "cell_type": "code",
   "execution_count": 3,
   "id": "8b9c4a69-8cf4-4057-b4d2-e31799d97cbf",
   "metadata": {},
   "outputs": [],
   "source": [
    "%matplotlib qt"
   ]
  },
  {
   "cell_type": "code",
   "execution_count": 3,
   "id": "9507059f-71ba-4b5c-a987-1f6b737a7820",
   "metadata": {},
   "outputs": [
    {
     "data": {
      "image/png": "[encoded data removed]",
      "text/plain": [
       "<Figure size 432x288 with 2 Axes>"
      ]
     },
     "metadata": {
      "needs_background": "light"
     },
     "output_type": "display_data"
    }
   ],
   "source": [
    "mascara=np.zeros((1024,1024))\n",
    "cv.circle(mascara,(int(1024/2), int(1024/2)),200,1,-1)\n",
    "plt.figure()\n",
    "plt.imshow(mascara)\n",
    "plt.colorbar()\n",
    "plt.show()"
   ]
  },
  {
   "cell_type": "code",
   "execution_count": 5,
   "id": "c270471c-3f58-46cb-afdd-8e743a4816cd",
   "metadata": {},
   "outputs": [],
   "source": [
    "um=1e-6\n",
    "mm=1e-3\n",
    "nm=1e-9\n",
    "dx=600*nm\n",
    "dy=600*nm\n",
    "w=632.8*nm\n",
    "z1=500*um\n",
    "\n",
    "pu=d_angular(mascara,dx,dy,z1,w)\n",
    "plt.figure()\n",
    "plt.imshow((np.abs(pu)**2))\n",
    "plt.colorbar()\n",
    "plt.show()"
   ]
  },
  {
   "cell_type": "code",
   "execution_count": 6,
   "id": "263acb87-e75c-499d-a97d-12353eb409ce",
   "metadata": {},
   "outputs": [],
   "source": [
    "def fresnel_zones_circular(r,z,w_length):\n",
    "    zones=(r**2)/(z*w_length)\n",
    "    return zones"
   ]
  },
  {
   "cell_type": "code",
   "execution_count": 7,
   "id": "ab2311a5-25b6-4ae6-9390-10605b54825c",
   "metadata": {},
   "outputs": [
    {
     "name": "stdout",
     "output_type": "stream",
     "text": [
      "5.001319792723081\n"
     ]
    }
   ],
   "source": [
    "fzones=fresnel_zones_circular(200*dy,4.55*mm,w)\n",
    "print(fzones)"
   ]
  },
  {
   "cell_type": "code",
   "execution_count": 8,
   "id": "e0e63afc-c6ce-4286-a796-5e4615e5a80f",
   "metadata": {},
   "outputs": [],
   "source": [
    "def z_critic(m,dx,w):\n",
    "    zcr=(m*(dx**2))/w\n",
    "    return zcr"
   ]
  },
  {
   "cell_type": "code",
   "execution_count": 23,
   "id": "cc4c6e44-6e1c-4439-bee1-28847305c586",
   "metadata": {},
   "outputs": [
    {
     "name": "stdout",
     "output_type": "stream",
     "text": [
      "0.0005825537294563845\n"
     ]
    }
   ],
   "source": [
    "zcr1=z_critic(1024,dx,w)\n",
    "print(zcr1)"
   ]
  },
  {
   "cell_type": "code",
   "execution_count": 10,
   "id": "cde707b7-d1b0-4f9b-b34b-efb70f76b71a",
   "metadata": {},
   "outputs": [
    {
     "name": "stdout",
     "output_type": "stream",
     "text": [
      "7.000000000000001e-07\n"
     ]
    }
   ],
   "source": [
    "deltaminimo=1/(1/(700*nm))\n",
    "print(deltaminimo)"
   ]
  },
  {
   "cell_type": "code",
   "execution_count": 29,
   "id": "812f4e99-7b75-4659-a65e-12065f0bd40f",
   "metadata": {},
   "outputs": [],
   "source": [
    "def T_fresnel( U,dx,dy,z,W_length):\n",
    "    N,M =np.shape(U)\n",
    "    x=np.arange(-int(M/2),int(M/2),1)\n",
    "    y=np.arange(-int(N/2),int(N/2),1)\n",
    "    \n",
    "    X,Y=np.meshgrid(x,y)\n",
    "    k=(2*np.pi)/W_length\n",
    "    dx0=X*(dx)\n",
    "    dy0=Y*(dy)\n",
    "    \n",
    "    c1=(1j*k)/(2*z)\n",
    "    matrix= np.exp(c1*(dx0**2+dy0**2))\n",
    "    matrix2=U*matrix\n",
    "    matrix3=np.fft.fftshift(np.fft.fft2(matrix2))\n",
    "    \n",
    "    x1=np.arange(-int(M/2),int(M/2),1)\n",
    "    y1=np.arange(-int(N/2),int(N/2),1)\n",
    "    X1,Y1=np.meshgrid(x1,y1)\n",
    "    dx1=X1*((W_length*z)/(M*dx))\n",
    "    dy1=Y1*((W_length*z)/(N*dy))\n",
    "    \n",
    "    c2=np.exp(1j*k*z)\n",
    "    c3=1j*W_length*z\n",
    "    c4=c2/c3\n",
    "    matrix4= c4*np.exp(c1*(dx1**2+dy1**2))\n",
    "    U_final=matrix3*matrix4\n",
    "    \n",
    "    \n",
    "    return U_final"
   ]
  },
  {
   "cell_type": "code",
   "execution_count": 28,
   "id": "2082d9ec-3e4d-4c3e-ac43-140da92aeddb",
   "metadata": {},
   "outputs": [],
   "source": [
    "z2=1*mm\n",
    "pu2=T_fresnel(mascara,dx,dy,z2,w)\n",
    "plt.figure()\n",
    "plt.imshow((np.abs(pu2)**2))\n",
    "plt.colorbar()\n",
    "plt.show()"
   ]
  },
  {
   "cell_type": "code",
   "execution_count": 13,
   "id": "7e71eb80-4bb6-435d-a250-0e3b1a279625",
   "metadata": {},
   "outputs": [],
   "source": [
    "def dft_2D(matrix):\n",
    "    data = np.asarray(matrix)\n",
    "    M, N = np.shape(data) \n",
    "    dft2d = np.zeros((M,N),dtype=complex)\n",
    "    for k in range(M):\n",
    "        for l in range(N):\n",
    "            sum_matrix = 0.0\n",
    "            for m in range(M):\n",
    "                for n in range(N):\n",
    "                    e = np.exp(- 2j * np.pi * ((k * m) / M + (l * n) / N))\n",
    "                    sum_matrix +=  data[m,n] * e\n",
    "            dft2d[k,l] = sum_matrix\n",
    "    return dft2d"
   ]
  },
  {
   "cell_type": "code",
   "execution_count": 14,
   "id": "1dc78647-b4ab-457e-800d-1afb154fb0ff",
   "metadata": {},
   "outputs": [],
   "source": [
    "def idft_2D(matrix):\n",
    "    data = np.asarray(matrix)\n",
    "    M, N = np.shape(data) \n",
    "    dft2d = np.zeros((M,N),dtype=complex)\n",
    "    for k in range(M):\n",
    "        for l in range(N):\n",
    "            sum_matrix = 0.0\n",
    "            for m in range(M):\n",
    "                for n in range(N):\n",
    "                    e = np.exp( 2j * np.pi * ((k * m) / M + (l * n) / N))\n",
    "                    sum_matrix +=  data[m,n] * e\n",
    "            dft2d[k,l] = sum_matrix\n",
    "    return dft2d"
   ]
  },
  {
   "cell_type": "code",
   "execution_count": null,
   "id": "469d183c-8fa1-47cb-8585-50890038a400",
   "metadata": {},
   "outputs": [],
   "source": []
  },
  {
   "cell_type": "code",
   "execution_count": null,
   "id": "e9cacbe7-1f48-4977-86bd-cb4cd8dbbfc1",
   "metadata": {},
   "outputs": [],
   "source": []
  },
  {
   "cell_type": "code",
   "execution_count": 15,
   "id": "a62f2730-450c-42ee-b826-d839e3ca6a6b",
   "metadata": {},
   "outputs": [],
   "source": [
    "def d_angular_dft( U,dx,dy,z,W_length):\n",
    "    freq_U=np.fft.fftshift(dft_2D(U)) \n",
    "    N,M =np.shape(U)\n",
    "    x=np.arange(-int(M/2),int(M/2),1)\n",
    "    y=np.arange(-int(N/2),int(N/2),1)\n",
    "    \n",
    "    X,Y=np.meshgrid(x,y)\n",
    "    k=(2*np.pi)/W_length\n",
    "    dfx=X*1/(M*dx)\n",
    "    dfy=Y*1/(N*dy)\n",
    "    \n",
    "    c1=1j*z*k\n",
    "    matrix= np.exp(c1*np.sqrt(1-((W_length**2)*(dfx**2+dfy**2))))\n",
    "    matrix2=freq_U*matrix\n",
    "    matrix3=idft_2D(matrix2)\n",
    "    \n",
    "    return matrix3\n",
    "    "
   ]
  },
  {
   "cell_type": "code",
   "execution_count": 16,
   "id": "60819937-d8fc-4b6b-9063-c4a1026d1954",
   "metadata": {},
   "outputs": [
    {
     "name": "stdout",
     "output_type": "stream",
     "text": [
      "2.844500632111252e-05\n"
     ]
    }
   ],
   "source": [
    "\n",
    "dx3=10*um\n",
    "dy3=10*um\n",
    "w3=632.8*nm\n",
    "z3=20*um\n",
    "zcr1=z_critic(50,dx,w)\n",
    "print(zcr1)"
   ]
  },
  {
   "cell_type": "code",
   "execution_count": 17,
   "id": "3532b584-2f36-4a05-8706-251226d44c4f",
   "metadata": {},
   "outputs": [],
   "source": [
    "mascara2=np.zeros((50,50))\n",
    "cv.rectangle(mascara2,(25-20,25-20),(25+20,25+20),1,-1)\n",
    "plt.figure()\n",
    "plt.imshow(mascara2)\n",
    "plt.show()"
   ]
  },
  {
   "cell_type": "code",
   "execution_count": null,
   "id": "741ef3a3-75c1-4b18-80a4-5684f1b9f2f7",
   "metadata": {},
   "outputs": [],
   "source": []
  },
  {
   "cell_type": "code",
   "execution_count": 18,
   "id": "b0ee6b49-a0d7-46e9-a1d5-83c71d28a6b6",
   "metadata": {},
   "outputs": [],
   "source": [
    "pu3=d_angular(mascara2,dx,dy,z3,w3)\n",
    "plt.figure()\n",
    "plt.imshow((np.abs(pu3)**2))\n",
    "plt.colorbar()\n",
    "plt.show()\n"
   ]
  },
  {
   "cell_type": "code",
   "execution_count": 19,
   "id": "a0f8a306-5109-4e01-af0e-1611667d8d23",
   "metadata": {},
   "outputs": [],
   "source": [
    "pu4=d_angular_dft(mascara2,dx,dy,z3,w)\n",
    "plt.figure()\n",
    "plt.imshow((np.abs(pu4)**2))\n",
    "plt.colorbar()\n",
    "plt.show()"
   ]
  },
  {
   "cell_type": "code",
   "execution_count": 4,
   "id": "86ab9737-501d-401c-8e8b-ff3b89b19801",
   "metadata": {},
   "outputs": [],
   "source": [
    "def T_fresnel_dft( U,dx,dy,z,W_length):\n",
    "    N,M =np.shape(U)\n",
    "    x=np.arange(-int(M/2),int(M/2),1)\n",
    "    y=np.arange(-int(N/2),int(N/2),1)\n",
    "    \n",
    "    X,Y=np.meshgrid(x,y)\n",
    "    k=(2*np.pi)/W_length\n",
    "    dx0=X*(dx)\n",
    "    dy0=Y*(dy)\n",
    "    \n",
    "    c1=(1j*k)/(2*z)\n",
    "    matrix= np.exp(c1*(dx0**2+dy0**2))\n",
    "    matrix2=U*matrix\n",
    "    matrix3=np.fft.fftshift(dft_2D(matrix2))\n",
    "    \n",
    "    x1=np.arange(-int(M/2),int(M/2),1)\n",
    "    y1=np.arange(-int(N/2),int(N/2),1)\n",
    "    X1,Y1=np.meshgrid(x1,y1)\n",
    "    dx1=X1*((W_length*z)/(M*dx))\n",
    "    dy1=Y1*((W_length*z)/(N*dy))\n",
    "    \n",
    "    c2=np.exp(1j*k*z)\n",
    "    c3=1j*W_length*z\n",
    "    c4=c2/c3\n",
    "    matrix4= c4*np.exp(c1*(dx1**2+dy1**2))\n",
    "    U_final=matrix3*matrix4\n",
    "    \n",
    "    \n",
    "    return U_final"
   ]
  },
  {
   "cell_type": "code",
   "execution_count": 21,
   "id": "7af2ca66-6e7e-435f-9606-2fc0dfad9b9d",
   "metadata": {},
   "outputs": [],
   "source": [
    "pu5=T_fresnel_dft(mascara2,dx,dy,2*z3,w3)\n",
    "plt.figure()\n",
    "plt.imshow((np.abs(pu5)**2))\n",
    "plt.colorbar()\n",
    "plt.show()"
   ]
  },
  {
   "cell_type": "code",
   "execution_count": 22,
   "id": "bacef563-8b48-4a92-9c72-1b7c260e0b15",
   "metadata": {},
   "outputs": [],
   "source": [
    "pu6=T_fresnel(mascara2,dx,dy,2*z3,w3)\n",
    "plt.figure()\n",
    "plt.imshow((np.abs(pu6)**2))\n",
    "plt.colorbar()\n",
    "plt.show()"
   ]
  },
  {
   "cell_type": "code",
   "execution_count": null,
   "id": "66b9f337-9e4c-4487-8314-9922c55d1829",
   "metadata": {},
   "outputs": [],
   "source": []
  }
 ],
 "metadata": {
  "kernelspec": {
   "display_name": "Python 3 (ipykernel)",
   "language": "python",
   "name": "python3"
  },
  "language_info": {
   "codemirror_mode": {
    "name": "ipython",
    "version": 3
   },
   "file_extension": ".py",
   "mimetype": "text/x-python",
   "name": "python",
   "nbconvert_exporter": "python",
   "pygments_lexer": "ipython3",
   "version": "3.10.0"
  },
  "toc-autonumbering": true
 },
 "nbformat": 4,
 "nbformat_minor": 5
}
