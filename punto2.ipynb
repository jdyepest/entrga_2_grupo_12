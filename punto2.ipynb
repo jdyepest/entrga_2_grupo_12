{
 "cells": [
  {
   "cell_type": "code",
   "execution_count": 1,
   "id": "91f003d7-464e-4dd8-b493-f839000ace3d",
   "metadata": {},
   "outputs": [],
   "source": [
    "import numpy as np\n",
    "import matplotlib.pyplot as plt\n",
    "import cv2 as cv\n",
    "um=1e-6\n",
    "mm=1e-3\n",
    "nm=1e-9\n"
   ]
  },
  {
   "cell_type": "code",
   "execution_count": 2,
   "id": "72f0cda1-f71e-4359-92e8-946a29918b99",
   "metadata": {},
   "outputs": [],
   "source": [
    "def mask_cos(n,m,dx,dy,m1,l):\n",
    "    x=np.arange(-int(m/2),int(n/2),1)\n",
    "    y=np.arange(-int(n/2),int(m/2),1)\n",
    "    \n",
    "    X,Y=np.meshgrid(x,y)\n",
    "    X=X*(dx)\n",
    "    Y=Y*(dy)\n",
    "    mask= 0.5*(1+m1*np.cos((2*np.pi*X)/l))\n",
    "    return mask\n",
    "\n",
    "\n",
    "    \n",
    "    \n",
    "    \n",
    "    \n"
   ]
  },
  {
   "cell_type": "code",
   "execution_count": 3,
   "id": "7376ed5d-7fcf-4f93-baee-00fb14a64e27",
   "metadata": {},
   "outputs": [],
   "source": [
    "%matplotlib qt"
   ]
  },
  {
   "cell_type": "code",
   "execution_count": 4,
   "id": "72e893c3-4962-4d13-8d6f-c34b83ef712b",
   "metadata": {},
   "outputs": [],
   "source": [
    "mask1=mask_cos(1024,1024,600*nm,600*nm,1,32*um)\n",
    "#mask1=np.pad(mask1, ((1024, 1024), (1024, 1024)), 'constant', constant_values=0)\n",
    "plt.figure()\n",
    "plt.imshow(mask1)\n",
    "plt.show()\n",
    "dx=600*nm\n",
    "dy=600*nm\n",
    "w=632.8*nm\n",
    "z1=500*um"
   ]
  },
  {
   "cell_type": "code",
   "execution_count": 5,
   "id": "5a896bdf-3069-427e-bb58-940f686d928a",
   "metadata": {},
   "outputs": [],
   "source": [
    "def d_angular( U,dx,dy,z,W_length):\n",
    "    freq_U=np.fft.fftshift(np.fft.fft2(U)) \n",
    "    N,M =np.shape(U)\n",
    "    x=np.arange(-int(M/2),int(M/2),1)\n",
    "    y=np.arange(-int(N/2),int(N/2),1)\n",
    "    \n",
    "    X,Y=np.meshgrid(x,y)\n",
    "    k=(2*np.pi)/W_length\n",
    "    dfx=X*1/(M*dx)\n",
    "    dfy=Y*1/(N*dy)\n",
    "    \n",
    "    c1=1j*z*k\n",
    "    matrix= np.exp(c1*np.sqrt(1-((W_length**2)*(dfx**2+dfy**2))))\n",
    "    matrix2=freq_U*matrix\n",
    "    matrix3=np.fft.ifft2(matrix2)\n",
    "    \n",
    "    return matrix3\n",
    "    \n"
   ]
  },
  {
   "cell_type": "code",
   "execution_count": 6,
   "id": "d720ac8b-590d-443e-9dcb-3ac0e46cdb65",
   "metadata": {},
   "outputs": [],
   "source": [
    "def T_fresnel( U,dx,dy,z,W_length):\n",
    "    N,M =np.shape(U)\n",
    "    x=np.arange(-int(M/2),int(M/2),1)\n",
    "    y=np.arange(-int(N/2),int(N/2),1)\n",
    "    \n",
    "    X,Y=np.meshgrid(x,y)\n",
    "    k=(2*np.pi)/W_length\n",
    "    dx0=X*(dx)\n",
    "    dy0=Y*(dy)\n",
    "    \n",
    "    c1=(1j*k)/(2*z)\n",
    "    matrix= np.exp(c1*(dx0**2+dy0**2))\n",
    "    matrix2=U*matrix\n",
    "    matrix3=np.fft.fftshift(np.fft.fft2(matrix2))\n",
    "    \n",
    "    x1=np.arange(-int(M/2),int(M/2),1)\n",
    "    y1=np.arange(-int(N/2),int(N/2),1)\n",
    "    X1,Y1=np.meshgrid(x1,y1)\n",
    "    dx1=X1*((W_length*z)/(M*dx))\n",
    "    dy1=Y1*((W_length*z)/(N*dy))\n",
    "    \n",
    "    c2=np.exp(1j*k*z)\n",
    "    c3=1j*W_length*z\n",
    "    c4=c2/c3\n",
    "    matrix4= c4*np.exp(c1*(dx1**2+dy1**2))\n",
    "    U_final=matrix3*matrix4\n",
    "    \n",
    "    \n",
    "    return U_final"
   ]
  },
  {
   "cell_type": "code",
   "execution_count": 7,
   "id": "dc1358a2-b8dc-4cd4-99a1-21168ba45f0d",
   "metadata": {},
   "outputs": [],
   "source": [
    "def z_critic(m,dx,w):\n",
    "    zcr=(m*(dx**2))/w\n",
    "    return zcr"
   ]
  },
  {
   "cell_type": "code",
   "execution_count": 8,
   "id": "3a758a30-4414-4c30-94e9-19f58bbcb5dd",
   "metadata": {},
   "outputs": [
    {
     "name": "stdout",
     "output_type": "stream",
     "text": [
      "0.001165107458912769\n"
     ]
    }
   ],
   "source": [
    "zcr1=z_critic(2048,dx,w)\n",
    "print(zcr1)"
   ]
  },
  {
   "cell_type": "code",
   "execution_count": 9,
   "id": "993088c0-f9cd-4306-a0ef-ffed6d0f46fa",
   "metadata": {},
   "outputs": [],
   "source": [
    "z_l=((32*um)**2)/(632.8*nm)"
   ]
  },
  {
   "cell_type": "code",
   "execution_count": 10,
   "id": "df75974a-f586-418f-87ed-738c9ea70329",
   "metadata": {},
   "outputs": [],
   "source": [
    "img55=T_fresnel(mask1,dx,dy,3*z_l,w)\n",
    "plt.figure()\n",
    "plt.imshow((np.abs(img55)**2))\n",
    "plt.colorbar()\n",
    "plt.show()"
   ]
  },
  {
   "cell_type": "code",
   "execution_count": 11,
   "id": "d2f3f329-ef50-409f-ba79-cee7d71255ea",
   "metadata": {},
   "outputs": [
    {
     "data": {
      "text/plain": [
       "0.001618204804045512"
      ]
     },
     "execution_count": 11,
     "metadata": {},
     "output_type": "execute_result"
    }
   ],
   "source": [
    "z_l"
   ]
  },
  {
   "cell_type": "code",
   "execution_count": 12,
   "id": "52e605e3-3193-47bc-846d-146db9a19478",
   "metadata": {},
   "outputs": [],
   "source": [
    "img56=T_fresnel(mask1,dx,dy,2*z_l,w)\n",
    "plt.figure()\n",
    "plt.imshow((np.abs(img56)**2))\n",
    "plt.colorbar()\n",
    "plt.show()"
   ]
  },
  {
   "cell_type": "code",
   "execution_count": 13,
   "id": "c60ba5ff-d412-4f04-8ff8-2c7ea85dd377",
   "metadata": {},
   "outputs": [],
   "source": [
    "def mask_concentric(n,m,r2,r1):\n",
    "    mascara=np.zeros((n,m))\n",
    "    cv.circle(mascara,(int(n/2), int(m/2)),r2,1,-1)\n",
    "    cv.circle(mascara,(int(n/2), int(m/2)),r1,0,-1)\n",
    "    return mascara"
   ]
  },
  {
   "cell_type": "code",
   "execution_count": 14,
   "id": "f55f54a4-2324-4657-a4e5-434513c1516b",
   "metadata": {},
   "outputs": [],
   "source": [
    "con_mask=mask_concentric(2048,2048,800,300)\n",
    "plt.figure()\n",
    "plt.imshow(con_mask)\n",
    "plt.colorbar()\n",
    "plt.show()"
   ]
  },
  {
   "cell_type": "code",
   "execution_count": 15,
   "id": "e260f09e-1324-4adf-af7f-941731372e8b",
   "metadata": {},
   "outputs": [],
   "source": [
    "def fresnel_zones_circular2(r2,r1,z,w_length):\n",
    "    zones=((r1)**2)/(z*w_length)\n",
    "    return zones"
   ]
  },
  {
   "cell_type": "code",
   "execution_count": 16,
   "id": "968f24fd-64ca-4aad-8830-6078cf98610a",
   "metadata": {},
   "outputs": [],
   "source": [
    "def Zfresnel_zones_circular2(r2,r1,N,w_length):\n",
    "    zeta=((r1)**2)/(N*w_length)\n",
    "    return zeta"
   ]
  },
  {
   "cell_type": "code",
   "execution_count": 17,
   "id": "49cdbd8f-7965-425c-bac8-190dcfedc563",
   "metadata": {},
   "outputs": [
    {
     "data": {
      "text/plain": [
       "10.240202275600506"
      ]
     },
     "execution_count": 17,
     "metadata": {},
     "output_type": "execute_result"
    }
   ],
   "source": [
    "fresnel_zones_circular2(800*dx,300*dx,5*mm,w)"
   ]
  },
  {
   "cell_type": "code",
   "execution_count": 18,
   "id": "f7f635fb-9355-4b33-b778-046f25cd1259",
   "metadata": {},
   "outputs": [
    {
     "data": {
      "text/plain": [
       "0.0034134007585335025"
      ]
     },
     "execution_count": 18,
     "metadata": {},
     "output_type": "execute_result"
    }
   ],
   "source": [
    "z_c=Zfresnel_zones_circular2(500*dx,300*dx,15,w)\n",
    "z_c"
   ]
  },
  {
   "cell_type": "code",
   "execution_count": 19,
   "id": "4cfeba0c-39be-451d-aa68-d0f55ea153d0",
   "metadata": {},
   "outputs": [],
   "source": [
    "img56=T_fresnel(con_mask,dx,dy,z_c,w)\n",
    "#img56=(img56-np.min(img56))/(np.max(img56)-np.min(img56))\n",
    "plt.figure()\n",
    "plt.imshow((np.abs(img56)))\n",
    "plt.colorbar()\n",
    "plt.show()"
   ]
  },
  {
   "cell_type": "code",
   "execution_count": null,
   "id": "bf84181f-7e83-4ceb-b014-6c5bc552ffb2",
   "metadata": {},
   "outputs": [],
   "source": []
  }
 ],
 "metadata": {
  "kernelspec": {
   "display_name": "Python 3 (ipykernel)",
   "language": "python",
   "name": "python3"
  },
  "language_info": {
   "codemirror_mode": {
    "name": "ipython",
    "version": 3
   },
   "file_extension": ".py",
   "mimetype": "text/x-python",
   "name": "python",
   "nbconvert_exporter": "python",
   "pygments_lexer": "ipython3",
   "version": "3.10.0"
  }
 },
 "nbformat": 4,
 "nbformat_minor": 5
}
